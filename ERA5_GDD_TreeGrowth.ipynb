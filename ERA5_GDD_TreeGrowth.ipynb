{
 "cells": [
  {
   "cell_type": "code",
   "execution_count": 1,
   "id": "0143c64f",
   "metadata": {},
   "outputs": [],
   "source": [
    "import ee, pandas as pd"
   ]
  },
  {
   "cell_type": "code",
   "execution_count": 2,
   "id": "6bc591fd",
   "metadata": {},
   "outputs": [],
   "source": [
    "# configurations\n",
    "CSV_PATH      = \"ring_width_output/tree_ring_coordinates.csv\"\n",
    "PROJECT_ID    = \"treegrowth-471820\"\n",
    "BASE_TEMP_C   = 5.0\n",
    "START_YEAR    = 1950\n",
    "END_YEAR      = 2025\n",
    "SAMPLE_SCALE  = 10000         # meters (fine for ERA5-Land ~9 km)\n",
    "EXPORT_TO     = \"DRIVE\"       # \"DRIVE\" or \"ASSET\"\n",
    "DRIVE_FOLDER  = \"GEE_Exports\" # created if missing"
   ]
  },
  {
   "cell_type": "code",
   "execution_count": 3,
   "id": "46df6b03",
   "metadata": {},
   "outputs": [
    {
     "name": "stderr",
     "output_type": "stream",
     "text": [
      "*** Earth Engine *** Share your feedback by taking our Annual Developer Satisfaction Survey: https://google.qualtrics.com/jfe/form/SV_7TDKVSyKvBdmMqW?ref=4i2o6\n"
     ]
    }
   ],
   "source": [
    "# EE Authorization and intiialization\n",
    "try:\n",
    "    ee.Initialize()\n",
    "except Exception:\n",
    "    ee.Authenticate()  # follow the link on first run\n",
    "    ee.Initialize(project=PROJECT_ID)"
   ]
  },
  {
   "cell_type": "code",
   "execution_count": 4,
   "id": "74779a25",
   "metadata": {},
   "outputs": [
    {
     "name": "stdout",
     "output_type": "stream",
     "text": [
      "Loaded 595 sites\n"
     ]
    }
   ],
   "source": [
    "# Load Canada sites\n",
    "sites_df = pd.read_csv(CSV_PATH)\n",
    "sites_df = sites_df.dropna(subset=[\"lat\",\"lon\"]).copy()\n",
    "sites_df[\"site_id\"] = sites_df.get(\"site_id\", pd.Series([f\"site_{i:06d}\" for i in range(len(sites_df))]))\n",
    "print(f\"Loaded {len(sites_df)} sites\")\n",
    "\n",
    "def _row_to_feat(r):\n",
    "    geom = ee.Geometry.Point([float(r[\"lon\"]), float(r[\"lat\"])])\n",
    "    return ee.Feature(geom, {\"site_id\": str(r[\"site_id\"])})\n",
    "sites_fc = ee.FeatureCollection([_row_to_feat(r) for _, r in sites_df.iterrows()])"
   ]
  },
  {
   "cell_type": "markdown",
   "id": "157d2914",
   "metadata": {},
   "source": [
    "Muñoz Sabater, J., (2019): ERA5-Land monthly averaged data from 1981 to present. Copernicus Climate Change Service (C3S) Climate Data Store (CDS). (<date of access>), doi:10.24381/cds.68d2bb30\n",
    "\n",
    "We use the **ERA5-Land (daily aggregates)** collection: `ECMWF/ERA5_LAND/DAILY_AGGR` and the band `temperature_2m` (Kelvin).  \n",
    "Growing Degree Day (GDD) per day is: `max(0, T(°C) - BASE_TEMP_C)`. We sum daily values per calendar year."
   ]
  },
  {
   "cell_type": "code",
   "execution_count": 5,
   "id": "7f3daeb7",
   "metadata": {},
   "outputs": [],
   "source": [
    "era5 = ee.ImageCollection(\"ECMWF/ERA5_LAND/DAILY_AGGR\") \\\n",
    "        .filterDate(f\"{START_YEAR}-01-01\", f\"{END_YEAR+1}-01-01\")"
   ]
  },
  {
   "cell_type": "code",
   "execution_count": null,
   "id": "54a754a8",
   "metadata": {},
   "outputs": [
    {
     "name": "stdout",
     "output_type": "stream",
     "text": [
      "['dewpoint_temperature_2m', 'temperature_2m', 'skin_temperature', 'soil_temperature_level_1', 'soil_temperature_level_2', 'soil_temperature_level_3', 'soil_temperature_level_4', 'lake_bottom_temperature', 'lake_ice_depth', 'lake_ice_temperature', 'lake_mix_layer_depth', 'lake_mix_layer_temperature', 'lake_shape_factor', 'lake_total_layer_temperature', 'snow_albedo', 'snow_cover', 'snow_density', 'snow_depth', 'snow_depth_water_equivalent', 'snowfall_sum', 'snowmelt_sum', 'temperature_of_snow_layer', 'skin_reservoir_content', 'volumetric_soil_water_layer_1', 'volumetric_soil_water_layer_2', 'volumetric_soil_water_layer_3', 'volumetric_soil_water_layer_4', 'forecast_albedo', 'surface_latent_heat_flux_sum', 'surface_net_solar_radiation_sum', 'surface_net_thermal_radiation_sum', 'surface_sensible_heat_flux_sum', 'surface_solar_radiation_downwards_sum', 'surface_thermal_radiation_downwards_sum', 'evaporation_from_bare_soil_sum', 'evaporation_from_open_water_surfaces_excluding_oceans_sum', 'evaporation_from_the_top_of_canopy_sum', 'evaporation_from_vegetation_transpiration_sum', 'potential_evaporation_sum', 'runoff_sum', 'snow_evaporation_sum', 'sub_surface_runoff_sum', 'surface_runoff_sum', 'total_evaporation_sum', 'u_component_of_wind_10m', 'v_component_of_wind_10m', 'surface_pressure', 'total_precipitation_sum', 'leaf_area_index_high_vegetation', 'leaf_area_index_low_vegetation', 'dewpoint_temperature_2m_min', 'dewpoint_temperature_2m_max', 'temperature_2m_min', 'temperature_2m_max', 'skin_temperature_min', 'skin_temperature_max', 'soil_temperature_level_1_min', 'soil_temperature_level_1_max', 'soil_temperature_level_2_min', 'soil_temperature_level_2_max', 'soil_temperature_level_3_min', 'soil_temperature_level_3_max', 'soil_temperature_level_4_min', 'soil_temperature_level_4_max', 'lake_bottom_temperature_min', 'lake_bottom_temperature_max', 'lake_ice_depth_min', 'lake_ice_depth_max', 'lake_ice_temperature_min', 'lake_ice_temperature_max', 'lake_mix_layer_depth_min', 'lake_mix_layer_depth_max', 'lake_mix_layer_temperature_min', 'lake_mix_layer_temperature_max', 'lake_shape_factor_min', 'lake_shape_factor_max', 'lake_total_layer_temperature_min', 'lake_total_layer_temperature_max', 'snow_albedo_min', 'snow_albedo_max', 'snow_cover_min', 'snow_cover_max', 'snow_density_min', 'snow_density_max', 'snow_depth_min', 'snow_depth_max', 'snow_depth_water_equivalent_min', 'snow_depth_water_equivalent_max', 'snowfall_min', 'snowfall_max', 'snowmelt_min', 'snowmelt_max', 'temperature_of_snow_layer_min', 'temperature_of_snow_layer_max', 'skin_reservoir_content_min', 'skin_reservoir_content_max', 'volumetric_soil_water_layer_1_min', 'volumetric_soil_water_layer_1_max', 'volumetric_soil_water_layer_2_min', 'volumetric_soil_water_layer_2_max', 'volumetric_soil_water_layer_3_min', 'volumetric_soil_water_layer_3_max', 'volumetric_soil_water_layer_4_min', 'volumetric_soil_water_layer_4_max', 'forecast_albedo_min', 'forecast_albedo_max', 'surface_latent_heat_flux_min', 'surface_latent_heat_flux_max', 'surface_net_solar_radiation_min', 'surface_net_solar_radiation_max', 'surface_net_thermal_radiation_min', 'surface_net_thermal_radiation_max', 'surface_sensible_heat_flux_min', 'surface_sensible_heat_flux_max', 'surface_solar_radiation_downwards_min', 'surface_solar_radiation_downwards_max', 'surface_thermal_radiation_downwards_min', 'surface_thermal_radiation_downwards_max', 'evaporation_from_bare_soil_min', 'evaporation_from_bare_soil_max', 'evaporation_from_open_water_surfaces_excluding_oceans_min', 'evaporation_from_open_water_surfaces_excluding_oceans_max', 'evaporation_from_the_top_of_canopy_min', 'evaporation_from_the_top_of_canopy_max', 'evaporation_from_vegetation_transpiration_min', 'evaporation_from_vegetation_transpiration_max', 'potential_evaporation_min', 'potential_evaporation_max', 'runoff_min', 'runoff_max', 'snow_evaporation_min', 'snow_evaporation_max', 'sub_surface_runoff_min', 'sub_surface_runoff_max', 'surface_runoff_min', 'surface_runoff_max', 'total_evaporation_min', 'total_evaporation_max', 'u_component_of_wind_10m_min', 'u_component_of_wind_10m_max', 'v_component_of_wind_10m_min', 'v_component_of_wind_10m_max', 'surface_pressure_min', 'surface_pressure_max', 'total_precipitation_min', 'total_precipitation_max', 'leaf_area_index_high_vegetation_min', 'leaf_area_index_high_vegetation_max', 'leaf_area_index_low_vegetation_min', 'leaf_area_index_low_vegetation_max']\n"
     ]
    }
   ],
   "source": [
    "# Bands vary by dataset; we'll use 2m air temp (daily mean) and precip total:\n",
    "# t2m_mean: daily mean 2 m temperature (Kelvin), total_precipitation: daily sum (m)\n",
    "# Convert K->C and precip m->mm\n",
    "\n",
    "first_img = ee.ImageCollection(\"ECMWF/ERA5_LAND/DAILY_AGGR\") \\\n",
    "                .filterDate(f\"{START_YEAR}-01-01\", f\"{START_YEAR}-12-31\") \\\n",
    "                .first()\n",
    "print(first_img.bandNames().getInfo())\n",
    "\n",
    "\n",
    "def add_derived_daily(img):\n",
    "    # Daily mean 2m temp (Kelvin) -> °C\n",
    "    t2c = img.select(\"temperature_2m\").subtract(273.15).rename(\"t2m_c\")\n",
    "    # Daily precip sum (meters) -> mm\n",
    "    pr_mm = img.select(\"total_precipitation_sum\").multiply(1000.0).rename(\"pr_mm\")\n",
    "    # Daily GDD contribution = max(0, Tmean - base)\n",
    "    gdd_day = t2c.subtract(BASE_TEMP_C).max(0).rename(\"gdd_day_c\")\n",
    "    return img.addBands([t2c, pr_mm, gdd_day])\n",
    "\n",
    "daily = era5.map(add_derived_daily)\n"
   ]
  },
  {
   "cell_type": "code",
   "execution_count": 7,
   "id": "3c6bcc59",
   "metadata": {},
   "outputs": [],
   "source": [
    "# Aggregrate by year (per-site)\n",
    "years = list(range(START_YEAR, END_YEAR + 1))\n",
    "\n",
    "def annual_stats_for_year(y):\n",
    "    yearly = daily.filterDate(f\"{y}-01-01\", f\"{y+1}-01-01\")\n",
    "    # Reduce the daily stack into annual sums/means\n",
    "    annual_sum = yearly.select([\"gdd_day_c\",\"pr_mm\"]).sum() \\\n",
    "        .rename([\"gdd_sum_c\",\"pr_sum_mm\"])\n",
    "    annual_mean = yearly.select([\"t2m_c\"]).mean().rename([\"t2m_mean_c\"])\n",
    "    annual_img = annual_sum.addBands(annual_mean) \\\n",
    "        .set({\"year\": y})\n",
    "\n",
    "    # Sample at point locations\n",
    "    sampled = annual_img.sampleRegions(\n",
    "        collection=sites_fc,\n",
    "        scale=SAMPLE_SCALE,\n",
    "        geometries=False\n",
    "    )\n",
    "    # Attach year property to each feature\n",
    "    return sampled.map(lambda f: f.set({\"year\": y}))\n",
    "\n",
    "fc_list = [annual_stats_for_year(y) for y in years]\n",
    "annual_fc = ee.FeatureCollection(fc_list).flatten()"
   ]
  },
  {
   "cell_type": "code",
   "execution_count": 8,
   "id": "b93b73a9",
   "metadata": {},
   "outputs": [
    {
     "name": "stdout",
     "output_type": "stream",
     "text": [
      "Started Drive export: AVHDXASM7YU7HMWBWGN55AHQ\n"
     ]
    }
   ],
   "source": [
    "task = ee.batch.Export.table.toDrive(\n",
    "    collection=annual_fc,\n",
    "    description=f\"CAN_sites_ERA5Land_annual_{START_YEAR}_{END_YEAR}\",\n",
    "    fileFormat=\"CSV\",\n",
    "    folder=DRIVE_FOLDER\n",
    ")\n",
    "task.start()\n",
    "print(\"Started Drive export:\", task.id)"
   ]
  }
 ],
 "metadata": {
  "kernelspec": {
   "display_name": "itrdb-gee",
   "language": "python",
   "name": "python3"
  },
  "language_info": {
   "codemirror_mode": {
    "name": "ipython",
    "version": 3
   },
   "file_extension": ".py",
   "mimetype": "text/x-python",
   "name": "python",
   "nbconvert_exporter": "python",
   "pygments_lexer": "ipython3",
   "version": "3.11.13"
  }
 },
 "nbformat": 4,
 "nbformat_minor": 5
}
