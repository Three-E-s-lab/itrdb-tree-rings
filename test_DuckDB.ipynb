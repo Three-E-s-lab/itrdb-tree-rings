{
 "cells": [
  {
   "cell_type": "code",
   "execution_count": 1,
   "id": "558d7ccf",
   "metadata": {},
   "outputs": [],
   "source": [
    "import os\n",
    "from pathlib import Path\n",
    "import duckdb\n",
    "import pandas as pd\n",
    "import numpy as np\n",
    "from tqdm import tqdm\n"
   ]
  },
  {
   "cell_type": "code",
   "execution_count": 2,
   "id": "d116c1f1",
   "metadata": {},
   "outputs": [],
   "source": [
    "OUT_DIR = Path(\"ring_width_output_robust\")          \n",
    "CHUNK_GLOB = str(OUT_DIR / \"ring_widths_robust_chunk_*.csv\")\n",
    "RING_PARQUET_DIR = Path(\"ring_parquet\")            \n",
    "CLIMATE_PARQUET_DIR = Path(\"climate_parquet\")\n",
    "\n",
    "RING_PARQUET_DIR.mkdir(parents=True, exist_ok=True)\n",
    "CLIMATE_PARQUET_DIR.mkdir(parents=True, exist_ok=True)"
   ]
  },
  {
   "cell_type": "code",
   "execution_count": null,
   "id": "c7b78c9a",
   "metadata": {},
   "outputs": [],
   "source": [
    "con = duckdb.connect('rings.db')"
   ]
  },
  {
   "cell_type": "code",
   "execution_count": 4,
   "id": "54961367",
   "metadata": {},
   "outputs": [
    {
     "data": {
      "text/plain": [
       "<_duckdb.DuckDBPyConnection at 0x10f9988f0>"
      ]
     },
     "execution_count": 4,
     "metadata": {},
     "output_type": "execute_result"
    }
   ],
   "source": [
    "con.execute(f\"\"\"\n",
    "CREATE OR REPLACE VIEW ring AS\n",
    "SELECT *\n",
    "FROM read_csv_auto('{CHUNK_GLOB}', SAMPLE_SIZE=200000, IGNORE_ERRORS=TRUE);\n",
    "\"\"\")"
   ]
  },
  {
   "cell_type": "code",
   "execution_count": 6,
   "id": "81e416cb",
   "metadata": {},
   "outputs": [
    {
     "name": "stdout",
     "output_type": "stream",
     "text": [
      "Rows / year range / columns:\n"
     ]
    },
    {
     "data": {
      "application/vnd.jupyter.widget-view+json": {
       "model_id": "891d0c568a7641d9819af1b120d9d96d",
       "version_major": 2,
       "version_minor": 0
      },
      "text/plain": [
       "FloatProgress(value=0.0, layout=Layout(width='auto'), style=ProgressStyle(bar_color='black'))"
      ]
     },
     "metadata": {},
     "output_type": "display_data"
    },
    {
     "name": "stdout",
     "output_type": "stream",
     "text": [
      "     n_rows  min_year  max_year\n",
      "0  16483140       800      2025\n"
     ]
    }
   ],
   "source": [
    "# Peek\n",
    "print(\"Rows / year range / columns:\")\n",
    "print(con.execute(\"\"\"\n",
    "SELECT COUNT(*) AS n_rows, MIN(year)::INT AS min_year, MAX(year)::INT AS max_year\n",
    "FROM ring\n",
    "\"\"\").df())"
   ]
  },
  {
   "cell_type": "code",
   "execution_count": 8,
   "id": "7f1f1898",
   "metadata": {},
   "outputs": [
    {
     "name": "stdout",
     "output_type": "stream",
     "text": [
      "\n",
      "Columns:    name\n",
      "0  ring\n"
     ]
    }
   ],
   "source": [
    "print(\"\\nColumns:\", con.execute(\"PRAGMA show_tables;\").df())"
   ]
  },
  {
   "cell_type": "code",
   "execution_count": 9,
   "id": "f5a98281",
   "metadata": {},
   "outputs": [
    {
     "name": "stdout",
     "output_type": "stream",
     "text": [
      "      column_name column_type null   key default extra\n",
      "0            year      BIGINT  YES  None    None  None\n",
      "1         tree_id     VARCHAR  YES  None    None  None\n",
      "2   ring_width_mm      DOUBLE  YES  None    None  None\n",
      "3       site_code     VARCHAR  YES  None    None  None\n",
      "4   collection_id     VARCHAR  YES  None    None  None\n",
      "5       site_name     VARCHAR  YES  None    None  None\n",
      "6    species_code     VARCHAR  YES  None    None  None\n",
      "7             lat      DOUBLE  YES  None    None  None\n",
      "8             lon      DOUBLE  YES  None    None  None\n",
      "9     elevation_m      DOUBLE  YES  None    None  None\n",
      "10       province     VARCHAR  YES  None    None  None\n",
      "11       filename     VARCHAR  YES  None    None  None\n",
      "12      file_type     VARCHAR  YES  None    None  None\n"
     ]
    }
   ],
   "source": [
    "print(con.execute(\"DESCRIBE ring\").df())"
   ]
  },
  {
   "cell_type": "code",
   "execution_count": 10,
   "id": "86f41c21",
   "metadata": {},
   "outputs": [
    {
     "data": {
      "text/plain": [
       "<_duckdb.DuckDBPyConnection at 0x10f9988f0>"
      ]
     },
     "execution_count": 10,
     "metadata": {},
     "output_type": "execute_result"
    }
   ],
   "source": [
    "# --- 2) Build site_tree_year (idempotent: averages in case of duplicates) ---\n",
    "con.execute(\"\"\"\n",
    "CREATE OR REPLACE VIEW ring_tree_year AS\n",
    "SELECT\n",
    "  site_code,\n",
    "  tree_id,\n",
    "  CAST(year AS INT) AS year,\n",
    "  AVG(ring_width_mm) AS ring_mm\n",
    "FROM ring\n",
    "GROUP BY site_code, tree_id, year;\n",
    "\"\"\")"
   ]
  },
  {
   "cell_type": "code",
   "execution_count": 12,
   "id": "d2cc8e64",
   "metadata": {},
   "outputs": [
    {
     "data": {
      "text/plain": [
       "<_duckdb.DuckDBPyConnection at 0x10f9988f0>"
      ]
     },
     "execution_count": 12,
     "metadata": {},
     "output_type": "execute_result"
    }
   ],
   "source": [
    "# --- 3) Build site-year chronology (mean, median, n_trees) + z-score safely ---\n",
    "con.execute(\"\"\"\n",
    "CREATE OR REPLACE VIEW chronology_site_year AS\n",
    "WITH per_site AS (\n",
    "  SELECT\n",
    "    site_code,\n",
    "    CAST(year AS INT) AS year,\n",
    "    COUNT(DISTINCT tree_id)            AS n_trees,\n",
    "    AVG(ring_mm)                       AS mean_mm,\n",
    "    median(ring_mm)                    AS median_mm\n",
    "  FROM ring_tree_year\n",
    "  GROUP BY site_code, year\n",
    "),\n",
    "site_stats AS (\n",
    "  SELECT\n",
    "    site_code,\n",
    "    AVG(mean_mm)            AS mu,\n",
    "    stddev_samp(mean_mm)    AS sd\n",
    "  FROM per_site\n",
    "  GROUP BY site_code\n",
    ")\n",
    "SELECT\n",
    "  p.*,\n",
    "  CASE WHEN s.sd > 0 THEN (p.mean_mm - s.mu) / s.sd ELSE NULL END AS mean_mm_z\n",
    "FROM per_site p\n",
    "JOIN site_stats s USING (site_code);\n",
    "\"\"\")"
   ]
  },
  {
   "cell_type": "code",
   "execution_count": 13,
   "id": "51a4f91d",
   "metadata": {},
   "outputs": [
    {
     "name": "stdout",
     "output_type": "stream",
     "text": [
      "\n",
      "Chronology sample:\n"
     ]
    },
    {
     "data": {
      "application/vnd.jupyter.widget-view+json": {
       "model_id": "937cd605b5294ea69e536c62cad454a3",
       "version_major": 2,
       "version_minor": 0
      },
      "text/plain": [
       "FloatProgress(value=0.0, layout=Layout(width='auto'), style=ProgressStyle(bar_color='black'))"
      ]
     },
     "metadata": {},
     "output_type": "display_data"
    },
    {
     "name": "stdout",
     "output_type": "stream",
     "text": [
      "  site_code  year  n_trees   mean_mm  median_mm  mean_mm_z\n",
      "0    can673   800        1  9.880000      9.880   2.408312\n",
      "1    can673   801        2  8.330000      8.330   1.795734\n",
      "2    can673   802        3  6.236667      6.980   0.968424\n",
      "3    can673   803        4  5.978250      6.765   0.866295\n",
      "4    can673   804        4  5.114000      5.920   0.524733\n",
      "5    can673   805        6  5.426667      6.615   0.648303\n",
      "6    can673   806        5  5.764600      7.300   0.781858\n",
      "7    can673   807        6  5.751667      5.920   0.776746\n",
      "8    can673   808        5  4.633200      6.050   0.334715\n",
      "9    can673   809        6  6.190500      7.855   0.950178\n"
     ]
    }
   ],
   "source": [
    "print(\"\\nChronology sample:\")\n",
    "print(con.execute(\"\"\"\n",
    "SELECT * FROM chronology_site_year\n",
    "ORDER BY site_code, year\n",
    "LIMIT 10\n",
    "\"\"\").df())\n"
   ]
  },
  {
   "cell_type": "code",
   "execution_count": 14,
   "id": "8e89053c",
   "metadata": {},
   "outputs": [
    {
     "name": "stdout",
     "output_type": "stream",
     "text": [
      "\n",
      "Materializing ring → partitioned Parquet (province, site_code) …\n"
     ]
    },
    {
     "data": {
      "application/vnd.jupyter.widget-view+json": {
       "model_id": "0af20ac9e50647f28ebce2421d25db39",
       "version_major": 2,
       "version_minor": 0
      },
      "text/plain": [
       "FloatProgress(value=0.0, layout=Layout(width='auto'), style=ProgressStyle(bar_color='black'))"
      ]
     },
     "metadata": {},
     "output_type": "display_data"
    },
    {
     "name": "stdout",
     "output_type": "stream",
     "text": [
      "Done.\n"
     ]
    }
   ],
   "source": [
    "# --- 4) (Optional) Materialize ring to partitioned Parquet (province/site_code) ---\n",
    "# This accelerates repeated queries and downstream joins.\n",
    "print(\"\\nMaterializing ring → partitioned Parquet (province, site_code) …\")\n",
    "con.execute(f\"\"\"\n",
    "COPY (SELECT * FROM ring)\n",
    "TO '{RING_PARQUET_DIR.as_posix()}'\n",
    "(FORMAT 'parquet', COMPRESSION 'ZSTD', PARTITION_BY (province, site_code));\n",
    "\"\"\")\n",
    "print(\"Done.\")"
   ]
  },
  {
   "cell_type": "code",
   "execution_count": null,
   "id": "78cd71b2",
   "metadata": {},
   "outputs": [],
   "source": []
  }
 ],
 "metadata": {
  "kernelspec": {
   "display_name": "itrdb-gee",
   "language": "python",
   "name": "python3"
  },
  "language_info": {
   "codemirror_mode": {
    "name": "ipython",
    "version": 3
   },
   "file_extension": ".py",
   "mimetype": "text/x-python",
   "name": "python",
   "nbconvert_exporter": "python",
   "pygments_lexer": "ipython3",
   "version": "3.11.13"
  }
 },
 "nbformat": 4,
 "nbformat_minor": 5
}
